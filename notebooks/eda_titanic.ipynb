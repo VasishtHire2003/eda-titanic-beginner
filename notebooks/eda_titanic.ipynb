{
 "cells": [
  {
   "cell_type": "markdown",
   "metadata": {},
   "source": [
    "# 🧪 Day 1: Exploratory Data Analysis (EDA)\n",
    "## 🚢 Titanic Dataset"
   ]
  },
  {
   "cell_type": "code",
   "execution_count": null,
   "metadata": {},
   "outputs": [],
   "source": [
    "# Import libraries\n",
    "import pandas as pd\n",
    "import numpy as np\n",
    "import seaborn as sns\n",
    "import matplotlib.pyplot as plt"
   ]
  },
  {
   "cell_type": "code",
   "execution_count": null,
   "metadata": {},
   "outputs": [],
   "source": [
    "# Load dataset\n",
    "df = sns.load_dataset('titanic')"
   ]
  },
  {
   "cell_type": "code",
   "execution_count": null,
   "metadata": {},
   "outputs": [],
   "source": [
    "# Basic info\n",
    "print('Shape:', df.shape)\n",
    "print('\\nColumns:', df.columns.tolist())\n",
    "print('\\nData Types:\\n', df.dtypes)\n",
    "print('\\nFirst 5 rows:\\n')\n",
    "df.head()"
   ]
  },
  {
   "cell_type": "code",
   "execution_count": null,
   "metadata": {},
   "outputs": [],
   "source": [
    "# Missing values\n",
    "print('Missing Values:\\n', df.isnull().sum())\n",
    "\nsns.heatmap(df.isnull(), cbar=False, cmap='viridis', yticklabels=False)\n",
    "plt.title('Missing Values Heatmap')\n",
    "plt.show()"
   ]
  },
  {
   "cell_type": "code",
   "execution_count": null,
   "metadata": {},
   "outputs": [],
   "source": [
    "# Descriptive statistics\n",
    "print('Numerical Summary:\\n', df.describe())\n",
    "print('\\nCategorical Summary:\\n', df.describe(include=['O']))"
   ]
  },
  {
   "cell_type": "code",
   "execution_count": null,
   "metadata": {},
   "outputs": [],
   "source": [
    "# Univariate analysis\n",
    "sns.histplot(df['age'].dropna(), kde=True, bins=20)\n",
    "plt.title('Age Distribution')\n",
    "plt.show()\n",
    "\nsns.countplot(data=df, x='pclass')\n",
    "plt.title('Passenger Class Count')\n",
    "plt.show()"
   ]
  },
  {
   "cell_type": "code",
   "execution_count": null,
   "metadata": {},
   "outputs": [],
   "source": [
    "# Bivariate analysis\n",
    "sns.barplot(x='sex', y='survived', data=df)\n",
    "plt.title('Survival Rate by Gender')\n",
    "plt.show()\n",
    "\nsns.barplot(x='pclass', y='survived', data=df)\n",
    "plt.title('Survival Rate by Passenger Class')\n",
    "plt.show()"
   ]
  },
  {
   "cell_type": "code",
   "execution_count": null,
   "metadata": {},
   "outputs": [],
   "source": [
    "# Correlation matrix\n",
    "numeric_df = df.select_dtypes(include=[np.number])\n",
    "corr = numeric_df.corr()\n",
    "\nsns.heatmap(corr, annot=True, cmap='coolwarm')\n",
    "plt.title('Correlation Matrix')\n",
    "plt.show()"
   ]
  },
  {
   "cell_type": "markdown",
   "metadata": {},
   "source": [
    "## 🔍 Key Insights\n",
    "- Around 20% of age data is missing.\n",
    "- Female passengers had a higher survival rate.\n",
    "- Passengers in class 1 had better survival chances than classes 2 and 3.\n",
    "- Fare and age don't show strong correlation."
   ]
  }
 ],
 "metadata": {
  "kernelspec": {
   "display_name": "Python 3",
   "language": "python",
   "name": "python3"
  },
  "language_info": {
   "codemirror_mode": {
    "name": "ipython",
    "version": 3
   },
   "file_extension": ".py",
   "mimetype": "text/x-python",
   "name": "python",
   "nbconvert_exporter": "python",
   "pygments_lexer": "ipython3",
   "version": "3.8"
  }
 },
 "nbformat": 4,
 "nbformat_minor": 4
}